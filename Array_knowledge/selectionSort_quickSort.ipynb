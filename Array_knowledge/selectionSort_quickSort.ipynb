{
 "cells": [
  {
   "cell_type": "markdown",
   "metadata": {},
   "source": [
    "# 选择排序"
   ]
  },
  {
   "cell_type": "code",
   "execution_count": 8,
   "metadata": {},
   "outputs": [
    {
     "name": "stdout",
     "output_type": "stream",
     "text": [
      "[-2, 0, 1, 2, 3, 4]\n"
     ]
    }
   ],
   "source": [
    "def FindSmallest(arr):\n",
    "    smallest = arr[0]   # 存储最小的值\n",
    "    smallest_index = 0  # 存储最小元素的索引\n",
    "    for i in range(1, len(arr)):\n",
    "        if arr[i] < smallest:\n",
    "            smallest = arr[i]\n",
    "            smallest_index = i\n",
    "    return smallest_index\n",
    "\n",
    "def SelectionSort(arr): # 定义一个数组排序（选择排序）的函数\n",
    "    new_arr = []\n",
    "    # 找出数组中最小的元素，并将其加入到新数组中\n",
    "    for i in range(len(arr)):\n",
    "        smallest = FindSmallest(arr)\n",
    "        new_arr.append(arr.pop(smallest))   # list.pop 用于移除列表中的一个元素(返回从列表中移除的元素对象)\n",
    "    return new_arr\n",
    "\n",
    "print(SelectionSort([-2,3,4,2,1,0]))"
   ]
  },
  {
   "cell_type": "markdown",
   "metadata": {},
   "source": [
    "# 快速排序"
   ]
  },
  {
   "cell_type": "code",
   "execution_count": 10,
   "metadata": {},
   "outputs": [
    {
     "name": "stdout",
     "output_type": "stream",
     "text": [
      "[-8, -8, -1, 3, 3, 3, 11, 11, 12, 20]\n"
     ]
    }
   ],
   "source": [
    "def quickSort(array):\n",
    "    if len(array) < 2:\n",
    "        return array\n",
    "    else:\n",
    "        minIndex = len(array) // 2\n",
    "        pivot = array[minIndex]\n",
    "        less = [i for i in array[1:] if i <= pivot]\n",
    "        greater = [i for i in array[1:] if i > pivot]\n",
    "        return quickSort(less) + [pivot] + quickSort(greater)\n",
    "print(quickSort([0,1,2,9,20,3,-1,-8,12,11]))"
   ]
  },
  {
   "cell_type": "code",
   "execution_count": 11,
   "metadata": {},
   "outputs": [
    {
     "name": "stdout",
     "output_type": "stream",
     "text": [
      "3\n"
     ]
    }
   ],
   "source": [
    "a = [1,2,3]\n",
    "print(len(a))"
   ]
  }
 ],
 "metadata": {
  "interpreter": {
   "hash": "2be37278f8f095bce8174dbeb20f5e6ed54b564a13050e24a77fa514d64bd920"
  },
  "kernelspec": {
   "display_name": "Python 3.10.2 ('py3.10')",
   "language": "python",
   "name": "python3"
  },
  "language_info": {
   "codemirror_mode": {
    "name": "ipython",
    "version": 3
   },
   "file_extension": ".py",
   "mimetype": "text/x-python",
   "name": "python",
   "nbconvert_exporter": "python",
   "pygments_lexer": "ipython3",
   "version": "3.10.2"
  },
  "orig_nbformat": 4
 },
 "nbformat": 4,
 "nbformat_minor": 2
}
