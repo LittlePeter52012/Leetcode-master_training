{
 "cells": [
  {
   "cell_type": "markdown",
   "metadata": {},
   "source": [
    "- 二分查找，写法二（左闭右开）"
   ]
  },
  {
   "cell_type": "code",
   "execution_count": 2,
   "metadata": {},
   "outputs": [],
   "source": [
    "def search(self, nums: list[int], target: int) -> int:\n",
    "    left, right = 0, len(nums)\n",
    "    while left < right:\n",
    "        mid = (left + right) // 2\n",
    "        if target < nums[mid]:\n",
    "            right = mid\n",
    "        elif target > nums[mid]:\n",
    "            left = mid + 1\n",
    "        else:\n",
    "            return mid\n",
    "    return -1"
   ]
  },
  {
   "cell_type": "code",
   "execution_count": 6,
   "metadata": {},
   "outputs": [
    {
     "name": "stdout",
     "output_type": "stream",
     "text": [
      "4\n"
     ]
    }
   ],
   "source": [
    "right = 9\n",
    "left = 0\n",
    "print(int(left + ((right - left) >> 1)))"
   ]
  },
  {
   "cell_type": "code",
   "execution_count": 8,
   "metadata": {},
   "outputs": [
    {
     "name": "stdout",
     "output_type": "stream",
     "text": [
      "4\n"
     ]
    }
   ],
   "source": [
    "right = 9\n",
    "left = 0\n",
    "print(left + (right - left) // 2)"
   ]
  },
  {
   "cell_type": "code",
   "execution_count": 24,
   "metadata": {},
   "outputs": [],
   "source": [
    "class Solution:\n",
    "    '''双指针法\n",
    "    时间复杂度：O(n);\n",
    "    空间复杂度：O(1);\n",
    "    '''\n",
    "    def removeElement(self, nums: list[int], val: int) -> int:\n",
    "        fast = slow = 0\n",
    "\n",
    "        while fast < len(nums):\n",
    "            if nums[fast] != val:\n",
    "                nums[slow] = nums[fast]\n",
    "                slow += 1\n",
    "            # 当 fast 指针遇到要删除的元素停止赋值\n",
    "            # slow 指针停止移动，fast 指针继续前进\n",
    "            fast += 1\n",
    "        return slow, \"nums = {}\".format(nums)"
   ]
  },
  {
   "cell_type": "code",
   "execution_count": 25,
   "metadata": {},
   "outputs": [
    {
     "data": {
      "text/plain": [
       "(7, 'nums = [2, 3, 3, 4, 6, 7, 8, 8]')"
      ]
     },
     "execution_count": 25,
     "metadata": {},
     "output_type": "execute_result"
    }
   ],
   "source": [
    "Solution.removeElement(\"ter\", nums=[2,3,3,4,5,6,7,8], val=5)"
   ]
  }
 ],
 "metadata": {
  "interpreter": {
   "hash": "2be37278f8f095bce8174dbeb20f5e6ed54b564a13050e24a77fa514d64bd920"
  },
  "kernelspec": {
   "display_name": "Python 3.10.2 ('py3.10')",
   "language": "python",
   "name": "python3"
  },
  "language_info": {
   "codemirror_mode": {
    "name": "ipython",
    "version": 3
   },
   "file_extension": ".py",
   "mimetype": "text/x-python",
   "name": "python",
   "nbconvert_exporter": "python",
   "pygments_lexer": "ipython3",
   "version": "3.10.2"
  },
  "orig_nbformat": 4
 },
 "nbformat": 4,
 "nbformat_minor": 2
}
