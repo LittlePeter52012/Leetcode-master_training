{
 "cells": [
  {
   "cell_type": "markdown",
   "metadata": {},
   "source": [
    "- 二分查找，写法二（左闭右开）"
   ]
  },
  {
   "cell_type": "code",
   "execution_count": 2,
   "metadata": {},
   "outputs": [],
   "source": [
    "def search(self, nums: list[int], target: int) -> int:\n",
    "    left, right = 0, len(nums)\n",
    "    while left < right:\n",
    "        mid = (left + right) // 2\n",
    "        if target < nums[mid]:\n",
    "            right = mid\n",
    "        elif target > nums[mid]:\n",
    "            left = mid + 1\n",
    "        else:\n",
    "            return mid\n",
    "    return -1"
   ]
  },
  {
   "cell_type": "code",
   "execution_count": 6,
   "metadata": {},
   "outputs": [
    {
     "name": "stdout",
     "output_type": "stream",
     "text": [
      "4\n"
     ]
    }
   ],
   "source": [
    "right = 9\n",
    "left = 0\n",
    "print(int(left + ((right - left) >> 1)))"
   ]
  },
  {
   "cell_type": "code",
   "execution_count": 8,
   "metadata": {},
   "outputs": [
    {
     "name": "stdout",
     "output_type": "stream",
     "text": [
      "4\n"
     ]
    }
   ],
   "source": [
    "right = 9\n",
    "left = 0\n",
    "print(left + (right - left) // 2)"
   ]
  },
  {
   "cell_type": "code",
   "execution_count": 24,
   "metadata": {},
   "outputs": [],
   "source": [
    "class Solution:\n",
    "    '''双指针法\n",
    "    时间复杂度：O(n);\n",
    "    空间复杂度：O(1);\n",
    "    '''\n",
    "    def removeElement(self, nums: list[int], val: int) -> int:\n",
    "        fast = slow = 0\n",
    "\n",
    "        while fast < len(nums):\n",
    "            if nums[fast] != val:\n",
    "                nums[slow] = nums[fast]\n",
    "                slow += 1\n",
    "            # 当 fast 指针遇到要删除的元素停止赋值\n",
    "            # slow 指针停止移动，fast 指针继续前进\n",
    "            fast += 1\n",
    "        return slow, \"nums = {}\".format(nums)"
   ]
  },
  {
   "cell_type": "code",
   "execution_count": 25,
   "metadata": {},
   "outputs": [
    {
     "data": {
      "text/plain": [
       "(7, 'nums = [2, 3, 3, 4, 6, 7, 8, 8]')"
      ]
     },
     "execution_count": 25,
     "metadata": {},
     "output_type": "execute_result"
    }
   ],
   "source": [
    "Solution.removeElement(\"ter\", nums=[2,3,3,4,5,6,7,8], val=5)"
   ]
  },
  {
   "cell_type": "markdown",
   "metadata": {},
   "source": [
    "##  977. 有序数组的平方"
   ]
  },
  {
   "cell_type": "markdown",
   "metadata": {},
   "source": [
    "1. 暴力循环\n",
    "- 复杂度：$O(n + n\\log n)$"
   ]
  },
  {
   "cell_type": "code",
   "execution_count": 2,
   "metadata": {},
   "outputs": [],
   "source": [
    "class Solution:\n",
    "    def sortedSquares(self, nums: list[int]) -> list[int]:\n",
    "        nums = [(i**2) for i in nums]\n",
    "        nums.sort()\n",
    "        return nums"
   ]
  },
  {
   "cell_type": "markdown",
   "metadata": {},
   "source": [
    "2. 双指针法  \n",
    "   [双指针法示意图](https://camo.githubusercontent.com/3416a4d2775067bebeb7fe40955f4e9a59f6281c050bad8266853ac218b04685/68747470733a2f2f636f64652d7468696e6b696e672e63646e2e626365626f732e636f6d2f676966732f3937372e2545362539432538392545352542412538462545362539352542302545372542422538342545372539412538342545352542392542332545362539362542392e676966)"
   ]
  },
  {
   "cell_type": "code",
   "execution_count": 4,
   "metadata": {},
   "outputs": [
    {
     "name": "stdout",
     "output_type": "stream",
     "text": [
      "[-1, -1, -1, -1, -1]\n",
      "3\n"
     ]
    }
   ],
   "source": [
    "n = 5\n",
    "print([-1] * n)\n",
    "nn = [1,2,3]\n",
    "print(len(nn))"
   ]
  },
  {
   "cell_type": "markdown",
   "metadata": {},
   "source": [
    "- 代码主要模块"
   ]
  },
  {
   "cell_type": "code",
   "execution_count": 5,
   "metadata": {},
   "outputs": [],
   "source": [
    "def test(nums):\n",
    "    # 初始化指针\n",
    "    left = 0\n",
    "    right = len(nums) - 1   # 因为下标从0开始，所以我们这里-1。例如，有3个数，最后一个数的下标是2.\n",
    "    # 存储结果数组，从数组末尾开始存储\n",
    "    res = [-1] * len(nums)  # 新建的数组\n",
    "    site = len(nums) - 1    # site指针指向res数组的尾部\n",
    "\n",
    "    if nums[left] * nums[left] < nums[right] * nums[right]:\n",
    "        res[site] = nums[right] * nums[right]\n",
    "        right -= 1\n",
    "    site -= 1\n",
    "    if nums[left] * nums[left] >= nums[right] * nums[right]:\n",
    "        res[site] = nums[left] * nums[left]\n",
    "        left += 1\n",
    "    site -= 1\n",
    "        "
   ]
  },
  {
   "cell_type": "markdown",
   "metadata": {},
   "source": [
    "- Python双指针的实现"
   ]
  },
  {
   "cell_type": "code",
   "execution_count": 7,
   "metadata": {},
   "outputs": [],
   "source": [
    "class Solution:\n",
    "    def sortedSquares(self, nums: list[int]) -> list[int]:\n",
    "        left = 0\n",
    "        right = len(nums) - 1\n",
    "        ans = [-1] * len(nums)\n",
    "        site = right\n",
    "        \n",
    "        while left <= right:\n",
    "            if nums[left] * nums[left] < nums[right] * nums[right]:\n",
    "                ans[site] = nums[right] *  nums[right]\n",
    "                right -= 1\n",
    "            else:\n",
    "                ans[site] = nums[left] * nums[left]\n",
    "                left += 1\n",
    "            site -= 1\n",
    "        \n",
    "        return ans"
   ]
  },
  {
   "cell_type": "markdown",
   "metadata": {},
   "source": [
    "## 229. 长度最小的子数组"
   ]
  },
  {
   "cell_type": "code",
   "execution_count": 11,
   "metadata": {},
   "outputs": [
    {
     "name": "stdout",
     "output_type": "stream",
     "text": [
      "0\n",
      "1\n",
      "2\n",
      "3\n",
      "4\n"
     ]
    }
   ],
   "source": [
    "for i in range(5):\n",
    "    print(i)"
   ]
  },
  {
   "cell_type": "code",
   "execution_count": 12,
   "metadata": {},
   "outputs": [],
   "source": [
    "class Soltuion:\n",
    "    def minSunArrayLen(sef, s: int, num: list[int]) -> int:\n",
    "        if not num:\n",
    "            return 0\n",
    "        n = len(num)\n",
    "        list = []\n",
    "        for i in range(0, n):\n",
    "            sums = 0\n",
    "            for j in range(i, n):\n",
    "                sums += num[j]\n",
    "                if sums >= s:\n",
    "                    list.append(j - 1 + 1)\n",
    "                    break\n",
    "            i += 1\n",
    "        return 0 if not list else min(list)\n",
    "# ==============================================================================================\n",
    "class Solution:\n",
    "    def minSubArrayLen(self, target: int, nums: List[int]) -> int:\n",
    "        if nums is None:#空集就返回0\n",
    "            return 0\n",
    "        n=len(nums)\n",
    "        ans=n+1#这里只要是一个比n大的数就可以，就是作为边界条件来判断是不是所有元素加起来都不够\n",
    "        for i in range(n):\n",
    "            sum=0\n",
    "            for j in range(i,n): \n",
    "                sum += nums[j]\n",
    "                if sum >= target:\n",
    "                    ans = min(ans,j-i+1) #确保输出的为最小长度的连续数组\n",
    "        return 0 if ans==n+1 else ans #如果ans还是原来我们设置的边界，就说明都不够要返回0"
   ]
  },
  {
   "cell_type": "markdown",
   "metadata": {},
   "source": [
    "## 209. 长度最小的子数组"
   ]
  },
  {
   "cell_type": "markdown",
   "metadata": {},
   "source": [
    "- 使用左右指针left和right，left和right之间的长度即为滑动窗口的大小（即连续数组的大小）。\n",
    "- 如果滑动窗口的值 sum >= target，维护连续数组最短长度，left向右移动，缩小滑动窗口。\n",
    "- 如果滑动窗口内的值sum < target，则right向右移动，扩大滑动窗口。"
   ]
  },
  {
   "cell_type": "code",
   "execution_count": 13,
   "metadata": {},
   "outputs": [
    {
     "data": {
      "text/plain": [
       "\"\\ndef minArray(target, nums):\\n    # 滑动窗口的左右边界\\n    left = right = 0\\n    # 记录当前元素和\\n    sum = 0\\n    # 记录最短长度\\n    minLen = float('inf')\\n    # 第一步\\n    sum += nums[right]\\n    while sum < target:\\n        right += 1\\n    while sum >= target:\\n        minLen = min(minLen, right-left+1)\\n        sum -= nums[left]\\n        left += 1\\n\""
      ]
     },
     "execution_count": 13,
     "metadata": {},
     "output_type": "execute_result"
    }
   ],
   "source": [
    "target = 7\n",
    "nums = [2,3,1,2,4,3]\n",
    "\n",
    "'''\n",
    "def minArray(target, nums):\n",
    "    # 滑动窗口的左右边界\n",
    "    left = right = 0\n",
    "    # 记录当前元素和\n",
    "    sum = 0\n",
    "    # 记录最短长度\n",
    "    minLen = float('inf')\n",
    "    # 第一步\n",
    "    sum += nums[right]\n",
    "    while sum < target:\n",
    "        right += 1\n",
    "    while sum >= target:\n",
    "        minLen = min(minLen, right-left+1)\n",
    "        sum -= nums[left]\n",
    "        left += 1\n",
    "'''"
   ]
  },
  {
   "cell_type": "code",
   "execution_count": 20,
   "metadata": {},
   "outputs": [],
   "source": [
    "class Solution:\n",
    "    def minSubArrayLen(self, s: int, nums: list[int]) -> int:\n",
    "\n",
    "        if not nums:\n",
    "            return 0\n",
    "\n",
    "        n = len(nums)\n",
    "        # 滑动窗口左右边界\n",
    "        left = right = 0\n",
    "        # 记录当前元素和\n",
    "        sum = 0\n",
    "        # 记录最短长度\n",
    "        min_len = float('inf')\n",
    "\n",
    "        while right < n:\n",
    "\n",
    "            sum += nums[right]\n",
    "            # 如果当前元素和 >= s\n",
    "            while sum >= s:\n",
    "                # 取之前窗口长度和当前窗口长度最短的\n",
    "                min_len = min(min_len, right - left + 1)\n",
    "                # 去掉左侧的数\n",
    "                sum -= nums[left]\n",
    "                # 缩小窗口\n",
    "                left += 1\n",
    "            right += 1\n",
    "\n",
    "        # 如果整个数组所有元素的和相加都 < s\n",
    "        # 即不存在符合条件的子数组，返回 0\n",
    "        if min_len == float('inf'):\n",
    "            return 0\n",
    "        else:\n",
    "            return min_len"
   ]
  }
 ],
 "metadata": {
  "interpreter": {
   "hash": "2be37278f8f095bce8174dbeb20f5e6ed54b564a13050e24a77fa514d64bd920"
  },
  "kernelspec": {
   "display_name": "Python 3.10.2 ('py3.10')",
   "language": "python",
   "name": "python3"
  },
  "language_info": {
   "codemirror_mode": {
    "name": "ipython",
    "version": 3
   },
   "file_extension": ".py",
   "mimetype": "text/x-python",
   "name": "python",
   "nbconvert_exporter": "python",
   "pygments_lexer": "ipython3",
   "version": "3.10.2"
  },
  "orig_nbformat": 4
 },
 "nbformat": 4,
 "nbformat_minor": 2
}
