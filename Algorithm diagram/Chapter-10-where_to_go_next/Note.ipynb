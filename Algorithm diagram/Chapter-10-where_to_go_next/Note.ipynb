{
 "cells": [
  {
   "cell_type": "markdown",
   "metadata": {},
   "source": [
    "# Chapter-10 Where to go next?"
   ]
  }
 ],
 "metadata": {
  "interpreter": {
   "hash": "2be37278f8f095bce8174dbeb20f5e6ed54b564a13050e24a77fa514d64bd920"
  },
  "kernelspec": {
   "display_name": "Python 3.10.2 ('py3.10')",
   "language": "python",
   "name": "python3"
  },
  "language_info": {
   "name": "python",
   "version": "3.10.2"
  },
  "orig_nbformat": 4
 },
 "nbformat": 4,
 "nbformat_minor": 2
}
