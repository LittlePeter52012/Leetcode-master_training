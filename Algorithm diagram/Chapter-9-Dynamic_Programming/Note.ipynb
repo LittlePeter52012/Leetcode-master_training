{
 "cells": [
  {
   "cell_type": "markdown",
   "metadata": {},
   "source": [
    "# Chapter-9 Dynamic programming(动态规划)"
   ]
  },
  {
   "cell_type": "markdown",
   "metadata": {},
   "source": [
    "## 1. 背包问题及FAQ(Frequently asked question)\n",
    "\n",
    "- ![](2022-02-18-12-36-14.png)\n",
    "\n",
    "- 我们在前一章中已经学习了如何找到该问题的近似解，如何找到最优解呢？\n",
    "\n",
    "### 1.1 运用动态规划解决问题\n",
    "\n",
    "- 动态规划从小问题入手，逐步解决大问题。(合并两个子问题的解来得到更大问题的解)\n",
    "\n",
    "- ![](2022-02-18-12-54-57.png)\n",
    "  > 当前商品(current item)指这一行你需要购买的商品(行所代表的商品)！  \n",
    "  \n",
    "- ![](2022-02-18-12-55-21.png)\n",
    "\n",
    "- 注意：沿着一列往下走时，最大价值**不可能**降低，每次迭代时，我们都存储当前的最大价值。最大价值不可能比以前低！\n",
    "\n",
    "### 1.2 行的排列顺序发生变化时结果将如何\n",
    "\n",
    "- 网格将类似于下面这样：  \n",
    "  ![](2022-02-18-14-44-08.png)\n",
    "\n",
    "- 答案不会发生变化。也就是说，各行的排列顺序无关紧要。\n",
    "\n",
    "### 1.3 增加一件更小的商品将如何呢\n",
    "\n",
    "- 由于项链的加入，我们需要考虑的粒度更细，因此必须调整网格。  \n",
    "  ![](2022-02-18-14-54-37.png)\n",
    "\n",
    "### 1.4 可以偷部分商品么\n",
    "\n",
    "- 使用动态规划，要么考虑拿走整件商品，要么考虑不拿，而没法判断该不该拿走商品的一部分。\n",
    "- 但使用贪婪算法，可以轻松地处理这种情况。首先尽可能多地拿价值最高地商品；如果拿光了，再尽可能多地拿价值次高地商品，以此类推。\n",
    "\n",
    "### 1.5 贪婪算法和DP的区别：\n",
    "\n",
    "- **动态规划**和**贪心算法**的共同点：\n",
    "  - 都是一种递推算法，均有局部最优解来推到全局最优解。\n",
    "\n",
    "- 贪婪算法：\n",
    "  - 贪婪算法中，作出的每一步贪心决策都无法改变，因为贪心决策都是由上一步的最优解推导下一步的最优解，而上一步之前的最优解则不做保留。\n",
    "  - 贪婪算法的正确条件：每一步的最优解一定包含上一步的最优解。\n",
    "\n",
    "- DP(动态规划)算法：\n",
    "  - 全局最优解中一定包含某个局部最优解，但不一定包含前一个局部最优解，因此需要记录之前的所有最优解。\n",
    "  - 动态规划的关键是状态转移方程，即如何由已求出的局部最优解来推到全局最优解。\n",
    "  - 边界条件：即最简单的，可以直接得出的局部最优解。\n",
    "\n",
    "### 1.6 旅游行程最优化\n",
    "\n",
    "- ![](2022-02-19-15-00-39.png)\n",
    "\n",
    "- ![](2022-02-19-15-00-54.png)\n",
    "\n",
    "### 1.7 处理相互依赖的情况\n",
    "\n",
    "- ![](2022-02-19-15-02-26.png)\n",
    "\n",
    "- 动态规划功能强大，它能够解决子问题并使用这些答案来解决大问题。但**仅当每个子问题都是离散的，即不依赖于其他子问题时，动态规划才管用**。这意味着使用动态规划算法解决不了从伦敦去巴黎玩的问题。\n",
    "\n",
    "### 1.8 计算最终的解时会涉及两个以上的子背包么？\n",
    "\n",
    "- 根据DP算法的设计，最多只需合并两个子背包，即根本不会设计两个以上的子背包。不过这些子背包可能又包含子背包。\n",
    "  ![](2022-02-19-15-06-55.png)\n",
    "\n",
    "### 1.9 最优解可能会导致背包没装满么？\n",
    "\n",
    "- 完全可能，假设偷了一颗价值很高的钻石，就会出现这种情况。"
   ]
  },
  {
   "cell_type": "markdown",
   "metadata": {},
   "source": [
    "## 2. 最长公共子串\n",
    "\n",
    "- 动态规划和线性规划的区别：  \n",
    "![](2022-02-19-15-23-12.png)\n",
    "\n",
    "- DP问题的启示：\n",
    "  - [ ] 动态规划可以帮助你在给定约束条件下找到最优解。在背包问题中，你必须在背包容量给定的情况下，偷到价值最高的商品。\n",
    "  - [ ] 在问题可分解为彼此独立且离散的子问题时，就可以使用动态规划来解决。\n",
    "      - 要设计动态规划解决方案可能很难，这正是本节要介绍的。下面会介绍一些通用的小贴士\n",
    "  - [ ] 每种动态规划解决方案都涉及网格。\n",
    "  - [ ] 单元格中的值通常就是我们要优化的值。在前面的背包问题中，单元格的值为商品的价值。\n",
    "  - [ ] 每个单元格都是一个子问题，因此我们应该考虑如何将问题分成子问题，这有助于我们找出网格的坐标轴。\n",
    "\n",
    "### 2.1 问题描述  \n",
    "\n",
    "- ![](2022-02-19-15-30-35.png)\n",
    "\n",
    "### 2.2 绘制网格\n",
    "\n",
    "- 绘制解决问题的网格需要注意的地方：\n",
    "  - [ ] 单元格中的值是什么？\n",
    "  - [ ] 如何将这个问题划分为子问题？\n",
    "  - [ ] 网格的坐标轴是什么？\n",
    "\n",
    "- ![](2022-02-19-15-46-21.png)\n",
    "\n",
    "### 2.3 填充网格\n",
    "\n",
    "- **费曼算法** (Feynman algorithm)步骤：\n",
    "  - [ ] 将问题写下来。\n",
    "  - [ ] 好好思考。\n",
    "  - [ ] 将答案写下来。\n",
    "\n",
    "- 结论：有些算法并非精确的解决步骤，而只是帮助你理清思路的框架。\n",
    "\n",
    "- ![](2022-02-19-15-50-50.png)\n",
    "\n",
    "- ![](2022-02-19-15-51-08.png)"
   ]
  },
  {
   "cell_type": "markdown",
   "metadata": {},
   "source": [
    "- 该公式的伪代码如下："
   ]
  },
  {
   "cell_type": "code",
   "execution_count": 1,
   "metadata": {},
   "outputs": [
    {
     "ename": "NameError",
     "evalue": "name 'word_a' is not defined",
     "output_type": "error",
     "traceback": [
      "\u001b[1;31m---------------------------------------------------------------------------\u001b[0m",
      "\u001b[1;31mNameError\u001b[0m                                 Traceback (most recent call last)",
      "\u001b[1;32md:\\OneDrive\\Code learning\\Python learning\\Algorithm diagram\\Chapter-9-Dynamic_Programming\\Note.ipynb Cell 5'\u001b[0m in \u001b[0;36m<module>\u001b[1;34m\u001b[0m\n\u001b[1;32m----> <a href='vscode-notebook-cell:/d%3A/OneDrive/Code%20learning/Python%20learning/Algorithm%20diagram/Chapter-9-Dynamic_Programming/Note.ipynb#ch0000006?line=0'>1</a>\u001b[0m \u001b[39mif\u001b[39;00m word_a[i] \u001b[39m==\u001b[39m word_b[j]:\n\u001b[0;32m      <a href='vscode-notebook-cell:/d%3A/OneDrive/Code%20learning/Python%20learning/Algorithm%20diagram/Chapter-9-Dynamic_Programming/Note.ipynb#ch0000006?line=1'>2</a>\u001b[0m     cell[i][j] \u001b[39m=\u001b[39m cell[i\u001b[39m-\u001b[39m\u001b[39m1\u001b[39m][j\u001b[39m-\u001b[39m\u001b[39m1\u001b[39m] \u001b[39m+\u001b[39m \u001b[39m1\u001b[39m\n\u001b[0;32m      <a href='vscode-notebook-cell:/d%3A/OneDrive/Code%20learning/Python%20learning/Algorithm%20diagram/Chapter-9-Dynamic_Programming/Note.ipynb#ch0000006?line=2'>3</a>\u001b[0m \u001b[39melse\u001b[39;00m:\n",
      "\u001b[1;31mNameError\u001b[0m: name 'word_a' is not defined"
     ]
    }
   ],
   "source": [
    "if word_a[i] == word_b[j]:\n",
    "    cell[i][j] = cell[i-1][j-1] + 1\n",
    "else:\n",
    "    cell[i][j] = 0"
   ]
  },
  {
   "cell_type": "markdown",
   "metadata": {},
   "source": [
    "- 需要注意的是：\n",
    "  问题的最终答案并不在最后一个单元格中！对于前面的背包问题，最终答案总是在最后的单元格中。但对于长公共子串问题，答案为网格中最大的数字——可能并不位于最后的单元格中。"
   ]
  },
  {
   "cell_type": "markdown",
   "metadata": {},
   "source": [
    "### 2.4 最长公共子序列\n",
    "\n",
    "- 最长公共子串  \n",
    "  ![](2022-02-19-16-02-33.png)\n",
    "\n",
    "- 最长公共子序列：**两个单词中都有的序列包含的字母数。**  \n",
    "  ![](2022-02-19-16-05-27.png)<br>\n",
    "  ![](2022-02-19-16-06-18.png)\n",
    "\n",
    "- 伪代码如下："
   ]
  },
  {
   "cell_type": "code",
   "execution_count": 3,
   "metadata": {},
   "outputs": [
    {
     "ename": "NameError",
     "evalue": "name 'word_a' is not defined",
     "output_type": "error",
     "traceback": [
      "\u001b[1;31m---------------------------------------------------------------------------\u001b[0m",
      "\u001b[1;31mNameError\u001b[0m                                 Traceback (most recent call last)",
      "\u001b[1;32md:\\OneDrive\\Code learning\\Python learning\\Algorithm diagram\\Chapter-9-Dynamic_Programming\\Note.ipynb Cell 8'\u001b[0m in \u001b[0;36m<module>\u001b[1;34m\u001b[0m\n\u001b[1;32m----> <a href='vscode-notebook-cell:/d%3A/OneDrive/Code%20learning/Python%20learning/Algorithm%20diagram/Chapter-9-Dynamic_Programming/Note.ipynb#ch0000010?line=0'>1</a>\u001b[0m \u001b[39mif\u001b[39;00m word_a[i][j] \u001b[39m==\u001b[39m word_b[i][j]:\n\u001b[0;32m      <a href='vscode-notebook-cell:/d%3A/OneDrive/Code%20learning/Python%20learning/Algorithm%20diagram/Chapter-9-Dynamic_Programming/Note.ipynb#ch0000010?line=1'>2</a>\u001b[0m     cell[i][j] \u001b[39m=\u001b[39m cell[i\u001b[39m-\u001b[39m\u001b[39m1\u001b[39m][j\u001b[39m-\u001b[39m\u001b[39m1\u001b[39m] \u001b[39m+\u001b[39m \u001b[39m1\u001b[39m\n\u001b[0;32m      <a href='vscode-notebook-cell:/d%3A/OneDrive/Code%20learning/Python%20learning/Algorithm%20diagram/Chapter-9-Dynamic_Programming/Note.ipynb#ch0000010?line=2'>3</a>\u001b[0m \u001b[39melse\u001b[39;00m:\n",
      "\u001b[1;31mNameError\u001b[0m: name 'word_a' is not defined"
     ]
    }
   ],
   "source": [
    "if word_a[i][j] == word_b[i][j]:\n",
    "    cell[i][j] = cell[i-1][j-1] + 1\n",
    "else:\n",
    "    cell[i][j] = max(cell[i-1][j-1], cell[i][j-1])"
   ]
  },
  {
   "cell_type": "markdown",
   "metadata": {},
   "source": [
    "- 动态规划的实际应用：\n",
    "  - [ ] 生物学家根据最长公共序列来确定DNA链的相似性，进而判断两种动物或疾病有多相似。\n",
    "    - 最长公共序列还被用来寻找多发性硬化症治疗方案。\n",
    "  - [ ] 诸如\"git diff\"等命令，也是使用动态规划实现的。\n",
    "  - [ ] 前面讨论了字符串的相似程度。编辑距离(levenshtein distance)指出了两个字符串的相似程度，也是使用动态规划计算得到的。编辑距离算法的用途很多，从拼写检查到判断用户上传的资料是否是盗版，都在其中。\n",
    "  - [ ] 诸如Microsoft Word等具有断字功能的应用程序。在确定在什么地方断字以确保行长一致上，使用的也是动态规划。"
   ]
  },
  {
   "cell_type": "markdown",
   "metadata": {},
   "source": [
    "## 3. 小结\n",
    "\n",
    "- [ ] 需要在给定约束条件下优化某种指标时，动态规划很有用。\n",
    "- [ ] 问题可分解为离散子问题时，可使用动态规划来解决。\n",
    "- [ ] 每种动态规划解决方案都涉及网格。\n",
    "- [ ] 单元格中的值通常就是你要优化的值。\n",
    "- [ ] 每个单元格都是一个子问题，因此你需要考虑如何将问题分解为子问题。\n",
    "- [ ] 没有放之四海皆准的计算动态规划解决方案的公式。"
   ]
  }
 ],
 "metadata": {
  "interpreter": {
   "hash": "2be37278f8f095bce8174dbeb20f5e6ed54b564a13050e24a77fa514d64bd920"
  },
  "kernelspec": {
   "display_name": "Python 3.10.2 ('py3.10')",
   "language": "python",
   "name": "python3"
  },
  "language_info": {
   "codemirror_mode": {
    "name": "ipython",
    "version": 3
   },
   "file_extension": ".py",
   "mimetype": "text/x-python",
   "name": "python",
   "nbconvert_exporter": "python",
   "pygments_lexer": "ipython3",
   "version": "3.10.2"
  },
  "orig_nbformat": 4
 },
 "nbformat": 4,
 "nbformat_minor": 2
}
