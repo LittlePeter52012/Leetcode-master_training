{
 "cells": [
  {
   "cell_type": "markdown",
   "metadata": {},
   "source": [
    "# Selection Sort"
   ]
  },
  {
   "cell_type": "code",
   "execution_count": 9,
   "metadata": {},
   "outputs": [],
   "source": [
    "def FindSmallest(arr):\n",
    "    smallest = arr[0]   # 存储最小的值\n",
    "    smallest_index = 0  # 存储最小元素的索引\n",
    "    for i in range(1, len(arr)):\n",
    "        if arr[i] < smallest:\n",
    "            smallest = arr[i]\n",
    "            smallest_index = i\n",
    "    return smallest_index\n",
    "\n",
    "def SelectionSort(arr): # 定义一个数组排序（选择排序）的函数\n",
    "    new_arr = []\n",
    "    # 找出数组中最小的元素，并将其加入到新数组中\n",
    "    for i in range(len(arr)):\n",
    "        smallest = FindSmallest(arr)\n",
    "        new_arr.append(arr.pop(smallest))   # list.pop 用于移除列表中的一个元素(返回从列表中移除的元素对象)\n",
    "    return new_arr"
   ]
  },
  {
   "cell_type": "markdown",
   "metadata": {},
   "source": [
    "Test代码测试"
   ]
  },
  {
   "cell_type": "code",
   "execution_count": 11,
   "metadata": {},
   "outputs": [
    {
     "name": "stdout",
     "output_type": "stream",
     "text": [
      "[1, 2, 3, 4, 5, 6, 7]\n"
     ]
    }
   ],
   "source": [
    "print(SelectionSort([5, 7, 1, 3, 4, 2, 6]))"
   ]
  },
  {
   "cell_type": "markdown",
   "metadata": {},
   "source": [
    "list.pop函数举例："
   ]
  },
  {
   "cell_type": "code",
   "execution_count": 7,
   "metadata": {},
   "outputs": [
    {
     "name": "stdout",
     "output_type": "stream",
     "text": [
      "5-我要删除的元素\n",
      "[1, 2, 3, 76]\n"
     ]
    }
   ],
   "source": [
    "list1 = [1,2,3,\"5-我要删除的元素\",76]\n",
    "print(list1.pop(3))\n",
    "print(list1)"
   ]
  }
 ],
 "metadata": {
  "interpreter": {
   "hash": "7fb1f8f1295e975f3f07a0439feb1a05b1db91534cdbaa5b7efcc4202e676350"
  },
  "kernelspec": {
   "display_name": "Python 3.10.1 64-bit ('env1': conda)",
   "language": "python",
   "name": "python3"
  },
  "language_info": {
   "codemirror_mode": {
    "name": "ipython",
    "version": 3
   },
   "file_extension": ".py",
   "mimetype": "text/x-python",
   "name": "python",
   "nbconvert_exporter": "python",
   "pygments_lexer": "ipython3",
   "version": "3.10.1"
  },
  "orig_nbformat": 4
 },
 "nbformat": 4,
 "nbformat_minor": 2
}
