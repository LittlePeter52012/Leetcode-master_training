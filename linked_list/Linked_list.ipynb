{
 "cells": [
  {
   "cell_type": "markdown",
   "metadata": {},
   "source": [
    "# 链表理论基础\n",
    "## 链表的定义\n",
    "\n",
    "- 链表：一种通过指针串联在一起的线性结构，每一个节点由两部分组成，一个是**数据域**，一个是**指针域**（存放指向下一个节点的指针），最后一个节点的指针域指向`null`（空指针）。\n",
    "- 链表的头节点（head）：链接的入口节点\n",
    "- ![](2022-03-15-17-31-05.png)"
   ]
  },
  {
   "cell_type": "markdown",
   "metadata": {},
   "source": [
    "## 链表的类型\n",
    "\n",
    "### 单链表\n",
    "- ![](2022-03-15-17-31-05.png)\n",
    "- 单链表中的节点只能指向节点的下一个节点。\n",
    "\n",
    "## 双链表\n",
    "- 每一个节点有两个指针域，一个指向下一个节点，一个指向上一个节点\n",
    "  ![](2022-03-15-17-35-58.png)\n",
    "\n",
    "## 循环链表\n",
    "- 循环链表，即，链表首尾相连。通过循环链表可以用来解决[约瑟夫环问题](https://baike.baidu.com/item/%E7%BA%A6%E7%91%9F%E5%A4%AB%E9%97%AE%E9%A2%98/3857719)。\n",
    "  ![](2022-03-15-17-39-12.png)"
   ]
  },
  {
   "cell_type": "markdown",
   "metadata": {},
   "source": [
    "## 链表的存储方式\n",
    "- 数组在内存中是连续分布的，但是链表在内存中可以不是连续分布的。  \n",
    "  链表通过指针域的指针链接在内存中的各个节点。  \n",
    "  链表的节点在内存中不是连续分布的，而是散乱分布在内存中的某地址上，分配机制取决于操作系统的内存管理。\n",
    "  如图：\n",
    "  ![](2022-03-15-17-41-52.png)"
   ]
  },
  {
   "cell_type": "markdown",
   "metadata": {},
   "source": [
    "## 链表的定义\n",
    "\n",
    "- Python的定义链表节点的方式，如下所示"
   ]
  },
  {
   "cell_type": "markdown",
   "metadata": {},
   "source": [
    "- 节点类的实现（链表的基本单位是节点，节点包括一个值和一个指针）\n",
    "  ![](2022-03-17-10-50-05.png)"
   ]
  },
  {
   "cell_type": "code",
   "execution_count": 2,
   "metadata": {},
   "outputs": [],
   "source": [
    "class ListNode:\n",
    "    '''\n",
    "    节点类\n",
    "    '''\n",
    "    def __init__(self, value, next = None):\n",
    "        self.value = value\n",
    "        self.next = next\n",
    "    def get_data(self):\n",
    "        return self.value\n",
    "    def set_new_data(self, new_value):\n",
    "        self.value = new_value"
   ]
  },
  {
   "cell_type": "markdown",
   "metadata": {},
   "source": [
    "- 有了**节点类**后就可以实现**链表类**。链表的一般操作由`add()`，`insert()`，`find()`，`delete()`等，时间复杂度均为`O(n)`，都需要从头遍历链表。\n",
    "> 数组在插入删除的时候，要移动元素，复杂度为o(n)。链表尽管不需要移动元素，只用改变指针关系，但是要插入或删除第i个节点，必须先找到第i-1个节点，复杂度为o(n)。"
   ]
  },
  {
   "cell_type": "markdown",
   "metadata": {},
   "source": [
    "- 链表类："
   ]
  },
  {
   "cell_type": "code",
   "execution_count": 1,
   "metadata": {},
   "outputs": [],
   "source": [
    "class LinkList(object):\n",
    "    '''\n",
    "    单项链表类\n",
    "    '''\n",
    "    def __init__(self, head = None):\n",
    "        self.head = head    # 初始化头点，是一个Node类\n",
    "        if not self.head:\n",
    "            self.length = 1\n",
    "        else:\n",
    "            self.length = 0\n",
    "\n",
    "    def get_head(self):\n",
    "        return self.head\n",
    "\n",
    "    def is_empyt(self):\n",
    "        if not self.length:\n",
    "            return True"
   ]
  },
  {
   "cell_type": "markdown",
   "metadata": {},
   "source": [
    "- 添加节点:  \n",
    "  ![](2022-03-17-11-06-55.png)\n",
    "  ![](2022-03-17-13-05-33.png)"
   ]
  },
  {
   "cell_type": "code",
   "execution_count": 2,
   "metadata": {},
   "outputs": [],
   "source": [
    "def append_node(self, data_or_node):\n",
    "    item = None\n",
    "    if isinstance(data_or_node, Node):\n",
    "        item = data_or_node\n",
    "    else:\n",
    "        item = Node(data_or_node)\n",
    "\n",
    "    if not self.head:\n",
    "        self.head = item\n",
    "        self.length += 1\n",
    "\n",
    "    else:\n",
    "        node = self.head    # 头节点始终保持不变\n",
    "        while node.next:\n",
    "            node = node.next\n",
    "        node.next = item\n",
    "        self.length += 1\n",
    "\n",
    "    # 若头节点是指最近添加的节点\n",
    "    # self.head.next = item\n",
    "    # self.head = item"
   ]
  },
  {
   "cell_type": "markdown",
   "metadata": {},
   "source": [
    "- 删除节点：  \n",
    "  ![](2022-03-17-13-04-47.png)"
   ]
  },
  {
   "cell_type": "code",
   "execution_count": 4,
   "metadata": {},
   "outputs": [],
   "source": [
    "def delete_node(self, index):\n",
    "    if self.is_empyt():\n",
    "        print(\"this link list is empty.\")\n",
    "        return\n",
    "\n",
    "    if index < 0 or index >= self.length:\n",
    "        print(\"error: out of index.\")\n",
    "\n",
    "    if index == 0:\n",
    "        self.head = self.head.next\n",
    "        self.length = -1\n",
    "        return\n",
    "\n",
    "    node = self.head\n",
    "    pre = self.head\n",
    "    while node.next and index:\n",
    "        pre = node\n",
    "        node = node.next\n",
    "        index -= 1\n",
    "\n",
    "    if not index:\n",
    "        pre.next = node.next\n",
    "        self.length = -1\n"
   ]
  },
  {
   "cell_type": "markdown",
   "metadata": {},
   "source": [
    "- 更新节点:"
   ]
  },
  {
   "cell_type": "code",
   "execution_count": 5,
   "metadata": {},
   "outputs": [],
   "source": [
    "def update_node(self, index, value):\n",
    "    if self.is_empty() or index < 0 or index >= self.length:\n",
    "        print(\"error: out of index.\")\n",
    "        return\n",
    "\n",
    "    node = self.head\n",
    "    while node.next and index:\n",
    "        node = node.next\n",
    "        index -= 1\n",
    "\n",
    "    if not index:\n",
    "        node.value = value"
   ]
  },
  {
   "cell_type": "markdown",
   "metadata": {},
   "source": [
    "- 查找节点"
   ]
  },
  {
   "cell_type": "code",
   "execution_count": 6,
   "metadata": {},
   "outputs": [],
   "source": [
    "def get_node(self, index):\n",
    "    if self.is_empty() or index < 0 or index >= self.length:\n",
    "        print(\"error: out of index.\")\n",
    "        return\n",
    "\n",
    "    node = self.head\n",
    "    while node.next and index:\n",
    "        node = node.next\n",
    "        index -= 1\n",
    "\n",
    "    if not index:\n",
    "        return node.value\n",
    "\n",
    "def get_index(self, value):\n",
    "    if self.is_empty():\n",
    "        print(\"the link list is empty\")\n",
    "        return\n",
    "    node = self.head\n",
    "    j = 0\n",
    "    while node:\n",
    "        if node.value == value:\n",
    "            return j\n",
    "        else:\n",
    "            node = node.next\n",
    "            j += 1\n",
    "\n",
    "    if j == self.length:\n",
    "        print(\"%s not found\" % str(value))\n",
    "        return\n"
   ]
  },
  {
   "cell_type": "markdown",
   "metadata": {},
   "source": [
    "- 插入节点：  \n",
    "  ![](2022-03-17-12-57-13.png)"
   ]
  },
  {
   "cell_type": "code",
   "execution_count": 7,
   "metadata": {},
   "outputs": [],
   "source": [
    "def insert_node(self, index, data_or_node):\n",
    "    if self.is_empty():\n",
    "        print(\"this link list is empty.\")\n",
    "        return\n",
    "    if self.is_empty() or index < 0 or index >= self.length:\n",
    "        print(\"error: out of index.\")\n",
    "        return\n",
    "\n",
    "    item = None\n",
    "    if isinstance(data_or_node, Node):\n",
    "        item = data_or_node\n",
    "    else:\n",
    "        item = Node(data_or_node)\n",
    "\n",
    "    if index == 0:\n",
    "        item.next = self.head\n",
    "        self.head = item\n",
    "        self.length += 1\n",
    "        return\n",
    "\n",
    "    node = self.head\n",
    "    pre = self.head\n",
    "    while node.next and index:\n",
    "        pre = node\n",
    "        node = node.next\n",
    "        index -= 1\n",
    "\n",
    "    if not index:\n",
    "        pre.next = item\n",
    "        item.next = node\n",
    "        self.length += 1"
   ]
  },
  {
   "cell_type": "markdown",
   "metadata": {},
   "source": [
    "- 清空链表:"
   ]
  },
  {
   "cell_type": "code",
   "execution_count": 8,
   "metadata": {},
   "outputs": [],
   "source": [
    "def clear(self):\n",
    "    self.head = None\n",
    "    self.length = 0"
   ]
  },
  {
   "cell_type": "markdown",
   "metadata": {},
   "source": [
    "![](2022-03-17-13-06-12.png)"
   ]
  },
  {
   "cell_type": "markdown",
   "metadata": {},
   "source": [
    "## 203. 移除链表元素  \n",
    "![](2022-03-17-20-16-10.png)"
   ]
  },
  {
   "cell_type": "markdown",
   "metadata": {},
   "source": [
    "1. 方法1：递归法"
   ]
  },
  {
   "cell_type": "code",
   "execution_count": 78,
   "metadata": {},
   "outputs": [],
   "source": [
    "class ListNode:\n",
    "    def __init__(self, val=0, next=None):\n",
    "        self.val = val\n",
    "        self.next = next\n",
    "\n",
    "class Solution:\n",
    "    def removeElements(self, head: ListNode, Val: int) -> ListNode:\n",
    "        dummy = ListNode(-1)    # 虚拟头节点为\"ListNode\"向左移一位\n",
    "        dummy.next = head\n",
    "        cur = dummy\n",
    "        while cur.next:\n",
    "            if cur.next.val == val:\n",
    "                cur.next = cur.next.next\n",
    "            else:\n",
    "                cur = cur.next\n",
    "\n",
    "        return dummy.next"
   ]
  },
  {
   "cell_type": "markdown",
   "metadata": {},
   "source": [
    "```C++\n",
    "/**\n",
    " * Definition for singly-linked list.\n",
    " * struct ListNode {\n",
    " *     int val;\n",
    " *     ListNode *next;\n",
    " *     ListNode() : val(0), next(nullptr) {}\n",
    " *     ListNode(int x) : val(x), next(nullptr) {}\n",
    " *     ListNode(int x, ListNode *next) : val(x), next(next) {}\n",
    " * };\n",
    " */\n",
    "class Solution \n",
    "{\n",
    "public:\n",
    "    ListNode* removeElements(ListNode* head, int val) \n",
    "    {\n",
    "        ListNode * dummy = new ListNode(-1);\n",
    "        dummy->next = head;\n",
    "        ListNode * p = dummy;\n",
    "        while (p->next)\n",
    "        {\n",
    "            if (p->next->val == val)\n",
    "                p -> next = p->next->next;  //删除(p->next)\n",
    "            else\n",
    "                p = p->next;\n",
    "        }\n",
    "        return dummy->next;\n",
    "    }\n",
    "};\n",
    "```"
   ]
  }
 ],
 "metadata": {
  "interpreter": {
   "hash": "2be37278f8f095bce8174dbeb20f5e6ed54b564a13050e24a77fa514d64bd920"
  },
  "kernelspec": {
   "display_name": "Python 3.10.2 ('py3.10')",
   "language": "python",
   "name": "python3"
  },
  "language_info": {
   "codemirror_mode": {
    "name": "ipython",
    "version": 3
   },
   "file_extension": ".py",
   "mimetype": "text/x-python",
   "name": "python",
   "nbconvert_exporter": "python",
   "pygments_lexer": "ipython3",
   "version": "3.10.2"
  },
  "orig_nbformat": 4
 },
 "nbformat": 4,
 "nbformat_minor": 2
}
